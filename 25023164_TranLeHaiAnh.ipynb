{
 "cells": [
  {
   "cell_type": "code",
   "execution_count": null,
   "id": "808f4e83-97eb-4ff8-b723-83df7b65ff80",
   "metadata": {},
   "outputs": [],
   "source": [
    "W3A3"
   ]
  },
  {
   "cell_type": "code",
   "execution_count": null,
   "id": "a28f39c6-3af6-4219-bf6d-6a599b149c7d",
   "metadata": {},
   "outputs": [],
   "source": [
    " n = int(input(\"Nhập số nguyên dương: \"))\n",
    " if n > 0 and (n & (n - 1)) == 0:\n",
    "        print(\"Đây là lũy thừa của 2\")\n",
    " else:\n",
    "        print(\"Không phải lũy thừa của 2\")"
   ]
  },
  {
   "cell_type": "code",
   "execution_count": null,
   "id": "ca5eda1b-4879-4433-84ca-a4ccffe65c52",
   "metadata": {},
   "outputs": [],
   "source": [
    "W3A4"
   ]
  },
  {
   "cell_type": "code",
   "execution_count": null,
   "id": "2846a052-ef36-411b-91be-40462bd80814",
   "metadata": {},
   "outputs": [],
   "source": [
    " m = int(input(\"Nhập m: \"))\n",
    " n = int(input(\"Nhập n: \"))\n",
    "    print(\"Kết quả làm tròn xuống:\", m // n)\n"
   ]
  },
  {
   "cell_type": "code",
   "execution_count": null,
   "id": "b6f3bfff-b74d-41b6-bc05-22e702c4214f",
   "metadata": {},
   "outputs": [],
   "source": [
    "W3A5"
   ]
  },
  {
   "cell_type": "code",
   "execution_count": null,
   "id": "67106aa0-a393-47fb-9d56-fd7067dd2c60",
   "metadata": {},
   "outputs": [],
   "source": [
    " m = int(input(\"Nhập m: \"))\n",
    " n = int(input(\"Nhập n: \"))\n",
    " if m % n == 0:\n",
    "        print(\"Kết quả làm tròn lên:\", m // n)\n",
    " else:\n",
    "        print(\"Kết quả làm tròn lên:\", m // n + 1)"
   ]
  },
  {
   "cell_type": "code",
   "execution_count": null,
   "id": "b7e89231-df6c-4e44-9792-2f23c95780c6",
   "metadata": {},
   "outputs": [],
   "source": [
    "W3A6"
   ]
  },
  {
   "cell_type": "code",
   "execution_count": null,
   "id": "45b08d01-9f35-4523-9160-819ac669a458",
   "metadata": {},
   "outputs": [],
   "source": [
    " x = int(input(\"Nhập số nguyên dương x: \"))\n",
    " if x % 2 == 0:\n",
    "        print(\"Even\")\n",
    " else:\n",
    "        print(\"Odd\")"
   ]
  },
  {
   "cell_type": "code",
   "execution_count": null,
   "id": "f311efb7-44d0-4abe-af57-a4e0785807ec",
   "metadata": {},
   "outputs": [],
   "source": [
    "W3A7"
   ]
  },
  {
   "cell_type": "code",
   "execution_count": null,
   "id": "3928c946-c697-48df-b469-780d70f96b8c",
   "metadata": {},
   "outputs": [],
   "source": [
    " a = int(input(\"Nhập số a: \"))\n",
    " b = int(input(\"Nhập số b: \"))\n",
    " if a < 0 and b < 0:\n",
    "        print(\"Yes\")\n",
    " else:\n",
    "        print(\"No\")"
   ]
  },
  {
   "cell_type": "code",
   "execution_count": null,
   "id": "70a52421-f9a0-4fc9-bb81-33b90016ebc4",
   "metadata": {},
   "outputs": [],
   "source": [
    "W3A8"
   ]
  },
  {
   "cell_type": "code",
   "execution_count": null,
   "id": "e1d2c124-e725-45b3-a772-31fc8a39afbb",
   "metadata": {},
   "outputs": [],
   "source": [
    " a = input(\"Nhập chuỗi a: \")\n",
    " b = input(\"Nhập chuỗi b: \")\n",
    " if len(a) > len(b):\n",
    "        print(\"True\")\n",
    " else:\n",
    "        print(\"False\")\n"
   ]
  },
  {
   "cell_type": "code",
   "execution_count": null,
   "id": "2299bed5-eb95-4792-b8dd-d7ae10666bf3",
   "metadata": {},
   "outputs": [],
   "source": [
    "W3A9"
   ]
  },
  {
   "cell_type": "code",
   "execution_count": null,
   "id": "73e533f2-0c9c-4e20-9b53-c797017fef3f",
   "metadata": {},
   "outputs": [],
   "source": [
    " a = int(input(\"Nhập cạnh a: \"))\n",
    " b = int(input(\"Nhập cạnh b: \"))\n",
    " c = int(input(\"Nhập cạnh c: \"))\n",
    " if a + b > c and a + c > b and b + c > a:\n",
    "        print(\"Yes\")\n",
    "  else:\n",
    "        print(\"No\")\n"
   ]
  },
  {
   "cell_type": "code",
   "execution_count": null,
   "id": "631757fc-c514-4687-a718-0e61c5123aa4",
   "metadata": {},
   "outputs": [],
   "source": [
    "W3A11"
   ]
  },
  {
   "cell_type": "code",
   "execution_count": null,
   "id": "a799040e-635e-4ca4-88a4-e409fe7c9995",
   "metadata": {},
   "outputs": [],
   "source": [
    " a = int(input(\"Nhập cạnh a: \"))\n",
    " b = int(input(\"Nhập cạnh b: \"))\n",
    " c = int(input(\"Nhập cạnh c: \"))\n",
    " if a + b <= c or a + c <= b or b + c <= a:\n",
    "        print(\"Không phải tam giác\")\n",
    " elif a == b == c:\n",
    "        print(\"Tam giác đều\")\n",
    " elif a == b or b == c or a == c:\n",
    "        print(\"Tam giác cân\")\n",
    " else:\n",
    "        print(\"Tam giác thường\")\n"
   ]
  },
  {
   "cell_type": "code",
   "execution_count": null,
   "id": "20712d2e-1b44-49ab-a8ad-06410c48a3e0",
   "metadata": {},
   "outputs": [],
   "source": [
    "W3A12"
   ]
  },
  {
   "cell_type": "code",
   "execution_count": null,
   "id": "f6179295-7e04-46bd-852e-ee96a06159aa",
   "metadata": {},
   "outputs": [],
   "source": [
    " year = int(input(\"Nhập năm: \"))\n",
    " if (year % 4 == 0 and year % 100 != 0) or (year % 400 == 0):\n",
    "        print(\"Yes\")\n",
    " else:\n",
    "        print(\"No\")\n",
    " else:\n",
    "    print(\"Mã bài toán không hợp lệ!\")"
   ]
  },
  {
   "cell_type": "code",
   "execution_count": null,
   "id": "c1cfcee9-7817-4b86-b02e-0f5aca05f718",
   "metadata": {},
   "outputs": [],
   "source": [
    "W3A15"
   ]
  },
  {
   "cell_type": "code",
   "execution_count": null,
   "id": "886d0304-48dc-455c-8031-16d413b79765",
   "metadata": {},
   "outputs": [],
   "source": [
    " diem = float(input(\"Nhập điểm trung bình: \"))\n",
    " if diem >= 8.0:\n",
    "    print(\"Giỏi\")\n",
    " elif diem >= 6.5:\n",
    "    print(\"Khá\")\n",
    " elif diem >= 5.0:\n",
    "    print(\"Trung bình\")\n",
    " else:\n",
    "    print(\"Yếu\")\n"
   ]
  },
  {
   "cell_type": "code",
   "execution_count": null,
   "id": "5648de52-adc6-472f-97ce-ce1058599184",
   "metadata": {},
   "outputs": [],
   "source": [
    "W3A14"
   ]
  },
  {
   "cell_type": "code",
   "execution_count": null,
   "id": "69b54139-42f8-408a-90d8-5de5099e45a7",
   "metadata": {},
   "outputs": [],
   "source": [
    " a = float(input(\"Nhập hệ số a: \"))\n",
    " b = float(input(\"Nhập hệ số b: \"))\n",
    "\n",
    " if a == 0:\n",
    "    if b == 0:\n",
    "        print(\"Vô số nghiệm\")\n",
    "    else:\n",
    "        print(\"Vô nghiệm\")\n",
    " else:\n",
    "    x = -b / a\n",
    "    # Làm tròn đến chữ số thập phân thứ 2\n",
    "    x = int(x * 100 + 0.5) / 100\n",
    "    print(\"Nghiệm x =\", x)"
   ]
  },
  {
   "cell_type": "code",
   "execution_count": null,
   "id": "7aa6c1c3-1b35-4427-a6fa-38402d10814f",
   "metadata": {},
   "outputs": [],
   "source": []
  }
 ],
 "metadata": {
  "kernelspec": {
   "display_name": "Python 3 (ipykernel)",
   "language": "python",
   "name": "python3"
  },
  "language_info": {
   "codemirror_mode": {
    "name": "ipython",
    "version": 3
   },
   "file_extension": ".py",
   "mimetype": "text/x-python",
   "name": "python",
   "nbconvert_exporter": "python",
   "pygments_lexer": "ipython3",
   "version": "3.13.5"
  }
 },
 "nbformat": 4,
 "nbformat_minor": 5
}
